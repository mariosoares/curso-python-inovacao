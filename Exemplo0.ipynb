{
  "nbformat": 4,
  "nbformat_minor": 0,
  "metadata": {
    "colab": {
      "provenance": [],
      "collapsed_sections": [],
      "authorship_tag": "ABX9TyMQ7HV8CY7lgN5CdT1MRYpz",
      "include_colab_link": true
    },
    "kernelspec": {
      "name": "python3",
      "display_name": "Python 3"
    },
    "language_info": {
      "name": "python"
    }
  },
  "cells": [
    {
      "cell_type": "markdown",
      "metadata": {
        "id": "view-in-github",
        "colab_type": "text"
      },
      "source": [
        "<a href=\"https://colab.research.google.com/github/mariosoares/curso-python-inovacao/blob/main/Exemplo0.ipynb\" target=\"_parent\"><img src=\"https://colab.research.google.com/assets/colab-badge.svg\" alt=\"Open In Colab\"/></a>"
      ]
    },
    {
      "cell_type": "code",
      "execution_count": 1,
      "metadata": {
        "colab": {
          "base_uri": "https://localhost:8080/"
        },
        "id": "L6graQFZnCb1",
        "outputId": "00486989-a93a-4830-9c18-3d6538c5eda0"
      },
      "outputs": [
        {
          "output_type": "stream",
          "name": "stdout",
          "text": [
            "Meu primeiro código Python no curso\n"
          ]
        }
      ],
      "source": [
        "print('Meu primeiro código Python no curso')"
      ]
    },
    {
      "cell_type": "code",
      "source": [],
      "metadata": {
        "id": "A7l1_TTvnORX"
      },
      "execution_count": null,
      "outputs": []
    }
  ]
}